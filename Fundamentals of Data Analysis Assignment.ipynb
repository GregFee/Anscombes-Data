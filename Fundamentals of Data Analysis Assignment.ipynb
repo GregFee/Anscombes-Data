{
 "cells": [
  {
   "cell_type": "markdown",
   "metadata": {},
   "source": [
    "## An Investigation of Anscombe's Quartet"
   ]
  },
  {
   "cell_type": "code",
   "execution_count": 1,
   "metadata": {
    "collapsed": true
   },
   "outputs": [],
   "source": [
    "#Fundamentals of Data Analyis Project GMIT \"Greg Feeley\" 14-10-18\n",
    "#https://en.wikipedia.org/wiki/Anscombe%27s_quartet"
   ]
  },
  {
   "cell_type": "code",
   "execution_count": 2,
   "metadata": {
    "collapsed": true
   },
   "outputs": [],
   "source": [
    "#import libraries\n",
    "import matplotlib.pyplot as plt\n",
    "import numpy as np\n",
    "import pylab\n",
    "Polynomial = np.polynomial.Polynomial"
   ]
  },
  {
   "cell_type": "code",
   "execution_count": 3,
   "metadata": {
    "collapsed": true
   },
   "outputs": [],
   "source": [
    "#numpy array Anscombes data\n",
    "x1 = np.array([10, 8, 13, 9, 11, 14, 6, 4, 12, 7, 5])\n",
    "y1 = np.array([8.04, 6.95, 7.58, 8.81, 8.33, 9.96, 7.24, 4.26, 10.84, 4.82, 5.68])\n",
    "x2 = np.array([10, 8, 13, 9, 11, 14, 6, 4, 12, 7, 5])\n",
    "y2 = np.array([9.14, 8.14, 8.74, 8.77, 9.26, 8.10, 6.13, 3.10, 9.13, 7.26, 4.74])\n",
    "x3 = np.array([10, 8, 13, 9, 11, 14, 6, 4, 12, 7, 5])\n",
    "y3 = np.array([7.46, 6.77, 12.74, 7.11, 7.81, 8.84, 6.08, 5.39, 8.15, 6.42, 5.73])\n",
    "x4 = np.array([8, 8, 8, 8, 8, 8, 8, 19, 8, 8, 8])\n",
    "y4 = np.array([6.58, 5.76, 7.71, 8.84, 8.47, 7.04, 5.25, 12.50, 5.56, 7.91, 6.89])"
   ]
  },
  {
   "cell_type": "markdown",
   "metadata": {},
   "source": [
    "## A Simple Quartet of Plots of Anscombe's Data Shows Variation and Outliers "
   ]
  },
  {
   "cell_type": "code",
   "execution_count": 4,
   "metadata": {},
   "outputs": [
    {
     "data": {
      "image/png": "[encoded data removed]",
      "text/plain": [
       "<matplotlib.figure.Figure at 0x19553440fd0>"
      ]
     },
     "metadata": {},
     "output_type": "display_data"
    }
   ],
   "source": [
    "#plot x andy y data together with 2 by 2 grid, no best fit line\n",
    "\n",
    "plt.subplot(221)\n",
    "plt.plot(x1, y1, 'go')\n",
    "plt.title(\"I\")\n",
    "plt.ylabel(\"Y1\")\n",
    "plt.xlabel(\"X1\")\n",
    "plt.axis([2, 21, 2, 14])\n",
    "\n",
    "plt.subplot(222)\n",
    "plt.plot(x2, y2, 'go')\n",
    "plt.title('II')\n",
    "plt.ylabel(\"Y2\")\n",
    "plt.xlabel(\"X2\")\n",
    "plt.axis([2, 21, 2, 14])\n",
    "\n",
    "\n",
    "plt.subplot(223)\n",
    "plt.plot(x3, y3, 'go')\n",
    "plt.title('III')\n",
    "plt.ylabel(\"Y3\")\n",
    "plt.xlabel(\"X3\")\n",
    "plt.axis([2, 21, 2, 14])\n",
    "\n",
    "plt.subplot(224)\n",
    "plt.plot(x4, y4, 'go')\n",
    "plt.title('IV')\n",
    "plt.ylabel(\"Y4\")\n",
    "plt.xlabel(\"X4\")\n",
    "plt.axis([2, 21, 2, 14])\n",
    "plt.show()"
   ]
  },
  {
   "cell_type": "markdown",
   "metadata": {},
   "source": [
    "## The Descriptive Data Gives the Impression the Data is Identical"
   ]
  },
  {
   "cell_type": "code",
   "execution_count": 5,
   "metadata": {},
   "outputs": [
    {
     "name": "stdout",
     "output_type": "stream",
     "text": [
      "Mean of X1 is 9.0\n",
      "Mean of X2 is 9.0\n",
      "Mean of X3 is 9.0\n",
      "Mean of X4 is 9.0\n"
     ]
    }
   ],
   "source": [
    "#Calculate \n",
    "meanx1 = np.mean(x1)\n",
    "print(\"Mean of X1 is\", meanx1)\n",
    "meanx2 = np.mean(x2)\n",
    "print(\"Mean of X2 is\", meanx2)\n",
    "meanx3 = np.mean(x3)\n",
    "print(\"Mean of X3 is\", meanx3)\n",
    "meanx4 = np.mean(x4)\n",
    "print(\"Mean of X4 is\", meanx4)"
   ]
  },
  {
   "cell_type": "code",
   "execution_count": 6,
   "metadata": {},
   "outputs": [
    {
     "name": "stdout",
     "output_type": "stream",
     "text": [
      "Mean of Y1 is 7.50090909091\n",
      "Mean of Y2 is 7.50090909091\n",
      "Mean of Y3 is 7.5\n",
      "Mean of Y4 is 7.50090909091\n"
     ]
    }
   ],
   "source": [
    "#calculate mean of all y data\n",
    "meany1 = np.mean(y1)\n",
    "print(\"Mean of Y1 is\", meany1)\n",
    "meany2 = np.mean(y2)\n",
    "print(\"Mean of Y2 is\", meany2)\n",
    "meany3 = np.mean(y3)\n",
    "print(\"Mean of Y3 is\", meany3)\n",
    "meany4 = np.mean(y4)\n",
    "print(\"Mean of Y4 is\", meany4)"
   ]
  },
  {
   "cell_type": "code",
   "execution_count": 7,
   "metadata": {},
   "outputs": [
    {
     "name": "stdout",
     "output_type": "stream",
     "text": [
      "Standard Deviation of X1 is 3.16227766017\n",
      "Standard Deviation of X2 is 3.16227766017\n",
      "Standard Deviation of X3 is 3.16227766017\n",
      "Standard Deviation of X4 is 3.16227766017\n"
     ]
    }
   ],
   "source": [
    "#calculate standard deviation of x data\n",
    "standardx1 = np.std(x1)\n",
    "print(\"Standard Deviation of X1 is\", standardx1)\n",
    "standardx2 = np.std(x2)\n",
    "print(\"Standard Deviation of X2 is\", standardx2)\n",
    "standardx3 = np.std(x3)\n",
    "print(\"Standard Deviation of X3 is\", standardx3)\n",
    "standardx4 = np.std(x4)\n",
    "print(\"Standard Deviation of X4 is\", standardx4)"
   ]
  },
  {
   "cell_type": "code",
   "execution_count": 8,
   "metadata": {},
   "outputs": [
    {
     "name": "stdout",
     "output_type": "stream",
     "text": [
      "Standard Deviation of Y1 is 1.93702421511\n",
      "Standard Deviation of Y2 is 1.93710869149\n",
      "Standard Deviation of Y3 is 1.93593294399\n",
      "Standard Deviation of Y4 is 1.93608064513\n"
     ]
    }
   ],
   "source": [
    "#calculate standard deviation of y data\n",
    "standardy1 = np.std(y1)\n",
    "print(\"Standard Deviation of Y1 is\", standardy1)\n",
    "standardy2 = np.std(y2)\n",
    "print(\"Standard Deviation of Y2 is\", standardy2)\n",
    "standardy3 = np.std(y3)\n",
    "print(\"Standard Deviation of Y3 is\", standardy3)\n",
    "standardy4 = np.std(y4)\n",
    "print(\"Standard Deviation of Y4 is\", standardy4)"
   ]
  },
  {
   "cell_type": "code",
   "execution_count": 9,
   "metadata": {},
   "outputs": [
    {
     "name": "stdout",
     "output_type": "stream",
     "text": [
      "Correlation between X1 and Y1 is [[ 1.          0.81642052]\n",
      " [ 0.81642052  1.        ]]\n",
      "Correlation between X1 and Y1 is [[ 1.          0.81623651]\n",
      " [ 0.81623651  1.        ]]\n",
      "Correlation between X3 and Y3 is [[ 1.          0.81628674]\n",
      " [ 0.81628674  1.        ]]\n",
      "Correlation between X4 and Y4 is [[ 1.          0.81652144]\n",
      " [ 0.81652144  1.        ]]\n"
     ]
    }
   ],
   "source": [
    "#Show Pearson Correlation Coefficients of x and y data\n",
    "coex1 = np.corrcoef(x1, y1)\n",
    "print(\"Correlation between X1 and Y1 is\", coex1)\n",
    "coex2 = np.corrcoef(x2, y2)\n",
    "print(\"Correlation between X1 and Y1 is\", coex2)\n",
    "coex3 = np.corrcoef(x3, y3)\n",
    "print(\"Correlation between X3 and Y3 is\", coex3)\n",
    "coex4 = np.corrcoef(x4, y4)\n",
    "print(\"Correlation between X4 and Y4 is\", coex4)"
   ]
  },
  {
   "cell_type": "code",
   "execution_count": 10,
   "metadata": {},
   "outputs": [
    {
     "name": "stdout",
     "output_type": "stream",
     "text": [
      "Variance of x1 is 10.0\n",
      "Variance of x2 is 10.0\n",
      "Variance of x3 is 10.0\n",
      "Variance of x4 is 10.0\n",
      "Variance of y1 is 3.75206280992\n",
      "Variance of y2 is 3.75239008264\n",
      "Variance of y3 is 3.74783636364\n",
      "Variance of y4 is 3.74840826446\n"
     ]
    }
   ],
   "source": [
    "# show the variance of both x and y data\n",
    "varx1 = np.var(x1)\n",
    "print(\"Variance of x1 is\", varx1)\n",
    "varx2 = np.var(x2)\n",
    "print(\"Variance of x2 is\", varx2)\n",
    "varx3 = np.var(x3)\n",
    "print(\"Variance of x3 is\", varx3)\n",
    "varx4 = np.var(x4)\n",
    "print(\"Variance of x4 is\", varx4)\n",
    "vary1 = np.var(y1)\n",
    "print(\"Variance of y1 is\", vary1)\n",
    "vary2 = np.var(y2)\n",
    "print(\"Variance of y2 is\", vary2)\n",
    "vary3 = np.var(y3)\n",
    "print(\"Variance of y3 is\", vary3)\n",
    "vary4 = np.var(y4)\n",
    "print(\"Variance of y4 is\", vary4)"
   ]
  },
  {
   "cell_type": "markdown",
   "metadata": {},
   "source": [
    "## Plot x and y data with best fit line. This gives a clear picture of the difference between visualising the data over the decriptive results."
   ]
  },
  {
   "cell_type": "code",
   "execution_count": 11,
   "metadata": {},
   "outputs": [
    {
     "name": "stdout",
     "output_type": "stream",
     "text": [
      "Raw fit results:\n",
      "poly([ 3.00009091  0.50009091])\n",
      "[array([ 13.76269]), 2, array([ 1.39407903,  0.23778908]), 2.4424906541753444e-15]\n",
      "Fit: A = 0.50[P] + 3.00 (rms residual = 1.12)\n"
     ]
    },
    {
     "data": {
      "image/png": "[encoded data removed]",
      "text/plain": [
       "<matplotlib.figure.Figure at 0x1955402e390>"
      ]
     },
     "metadata": {},
     "output_type": "display_data"
    },
    {
     "name": "stdout",
     "output_type": "stream",
     "text": [
      "Raw fit results:\n",
      "poly([ 3.00090909  0.5       ])\n",
      "[array([ 13.77629091]), 2, array([ 1.39407903,  0.23778908]), 2.4424906541753444e-15]\n",
      "Fit: A = 0.50[P] + 3.00 (rms residual = 1.12)\n"
     ]
    },
    {
     "data": {
      "image/png": "[encoded data removed]",
      "text/plain": [
       "<matplotlib.figure.Figure at 0x19554000fd0>"
      ]
     },
     "metadata": {},
     "output_type": "display_data"
    },
    {
     "name": "stdout",
     "output_type": "stream",
     "text": [
      "Raw fit results:\n",
      "poly([ 3.00245455  0.49972727])\n",
      "[array([ 13.75619182]), 2, array([ 1.39407903,  0.23778908]), 2.4424906541753444e-15]\n",
      "Fit: A = 0.50[P] + 3.00 (rms residual = 1.12)\n"
     ]
    },
    {
     "data": {
      "image/png": "[encoded data removed]",
      "text/plain": [
       "<matplotlib.figure.Figure at 0x1955407f128>"
      ]
     },
     "metadata": {},
     "output_type": "display_data"
    },
    {
     "name": "stdout",
     "output_type": "stream",
     "text": [
      "Raw fit results:\n",
      "poly([ 3.00172727  0.49990909])\n",
      "[array([ 13.74249]), 2, array([ 1.39407903,  0.23778908]), 2.4424906541753444e-15]\n",
      "Fit: A = 0.50[P] + 3.00 (rms residual = 1.12)\n"
     ]
    },
    {
     "data": {
      "image/png": "[encoded data removed]",
      "text/plain": [
       "<matplotlib.figure.Figure at 0x195540ec7f0>"
      ]
     },
     "metadata": {},
     "output_type": "display_data"
    }
   ],
   "source": [
    "#edited from https://scipython.com/book/chapter-6-numpy/examples/finding-a-best-fit-straight-line/\n",
    "#x1 and y1 straight line fit , root mean squared and show residual left over \n",
    "\n",
    "cmin, cmax = min(x1), max(x1)\n",
    "pfit, stats = Polynomial.fit(x1, y1, 1, full=True, window=(cmin, cmax),\n",
    "                                                    domain=(cmin, cmax))\n",
    "\n",
    "print('Raw fit results:', pfit, stats, sep='\\n')\n",
    "\n",
    "A0, m = pfit\n",
    "resid, rank, sing_val, rcond = stats\n",
    "rms = np.sqrt(resid[0]/len(y1))\n",
    "\n",
    "print('Fit: A = {:.2f}[P] + {:.2f}'.format(m, A0),\n",
    "      '(rms residual = {:.2f})'.format(rms))\n",
    "\n",
    "pylab.plot(x1, y1, 'o', color='m')\n",
    "pylab.plot(x1, pfit(x1), color='m')\n",
    "pylab.title('I')\n",
    "pylab.ylabel('y1')\n",
    "pylab.xlabel('x1')\n",
    "pylab.show()\n",
    "\n",
    "\n",
    "#x2 and y2 straight line fit , root mean squared and show residual left over \n",
    "cmin, cmax = min(x2), max(x2)\n",
    "pfit, stats = Polynomial.fit(x2, y2, 1, full=True, window=(cmin, cmax),\n",
    "                                                    domain=(cmin, cmax))\n",
    "\n",
    "print('Raw fit results:', pfit, stats, sep='\\n')\n",
    "\n",
    "A0, m = pfit\n",
    "resid, rank, sing_val, rcond = stats\n",
    "rms = np.sqrt(resid[0]/len(y1))\n",
    "\n",
    "print('Fit: A = {:.2f}[P] + {:.2f}'.format(m, A0),\n",
    "      '(rms residual = {:.2f})'.format(rms))\n",
    "\n",
    "\n",
    "pylab.plot(x2, y2, 'o', color='m')\n",
    "pylab.plot(x2, pfit(x2), color='m')\n",
    "pylab.title(\"II\")\n",
    "pylab.ylabel(\"Y2\")\n",
    "pylab.xlabel(\"X2\")\n",
    "pylab.show()\n",
    "\n",
    "#x3 and y3 straight line fit , root mean squared and show residual left over \n",
    "cmin, cmax = min(x3), max(x3)\n",
    "pfit, stats = Polynomial.fit(x3, y3, 1, full=True, window=(cmin, cmax),\n",
    "                                                    domain=(cmin, cmax))\n",
    "\n",
    "print('Raw fit results:', pfit, stats, sep='\\n')\n",
    "\n",
    "A0, m = pfit\n",
    "resid, rank, sing_val, rcond = stats\n",
    "rms = np.sqrt(resid[0]/len(y1))\n",
    "\n",
    "print('Fit: A = {:.2f}[P] + {:.2f}'.format(m, A0),\n",
    "      '(rms residual = {:.2f})'.format(rms))\n",
    "\n",
    "pylab.plot(x3, y3, 'o', color='m')\n",
    "pylab.plot(x3, pfit(x3), color='m')\n",
    "pylab.title(\"II\")\n",
    "pylab.ylabel(\"Y3\")\n",
    "pylab.xlabel(\"X3\")\n",
    "pylab.show()\n",
    "\n",
    "#x1 and y1 straight line fit , root mean squared and show residual left over \n",
    "cmin, cmax = min(x4), max(x4)\n",
    "pfit, stats = Polynomial.fit(x4, y4, 1, full=True, window=(cmin, cmax),\n",
    "                                                    domain=(cmin, cmax))\n",
    "\n",
    "print('Raw fit results:', pfit, stats, sep='\\n')\n",
    "\n",
    "A0, m = pfit\n",
    "resid, rank, sing_val, rcond = stats\n",
    "rms = np.sqrt(resid[0]/len(y1))\n",
    "\n",
    "print('Fit: A = {:.2f}[P] + {:.2f}'.format(m, A0),\n",
    "      '(rms residual = {:.2f})'.format(rms))\n",
    "\n",
    "pylab.plot(x4, y4, 'o', color='m')\n",
    "pylab.plot(x4, pfit(x4), color='m')\n",
    "pylab.title(\"IV\")\n",
    "pylab.ylabel(\"Y4\")\n",
    "pylab.xlabel(\"X4\")\n",
    "pylab.show()"
   ]
  },
  {
   "cell_type": "code",
   "execution_count": null,
   "metadata": {
    "collapsed": true
   },
   "outputs": [],
   "source": []
  }
 ],
 "metadata": {
  "kernelspec": {
   "display_name": "Python 3",
   "language": "python",
   "name": "python3"
  },
  "language_info": {
   "codemirror_mode": {
    "name": "ipython",
    "version": 3
   },
   "file_extension": ".py",
   "mimetype": "text/x-python",
   "name": "python",
   "nbconvert_exporter": "python",
   "pygments_lexer": "ipython3",
   "version": "3.6.3"
  }
 },
 "nbformat": 4,
 "nbformat_minor": 2
}
